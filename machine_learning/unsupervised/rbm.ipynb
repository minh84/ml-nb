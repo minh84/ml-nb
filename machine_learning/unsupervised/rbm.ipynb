{
 "cells": [
  {
   "cell_type": "markdown",
   "metadata": {},
   "source": [
    "## Restricted Boltzmann Machine (RBM)\n",
    "A [RBM](https://en.wikipedia.org/wiki/Restricted_Boltzmann_machine) is a generative stochastic artificial neural network that can learn a probability distribution over its set of inputs. \n",
    "\n",
    "A standard RBM has following diagram\n",
    "<img src=\"../rbm-diagram.png\" alt=\"rbm-diagram\">\n",
    "where we denote\n",
    "* $v\\in\\mathbb{R}^D$ is visible units\n",
    "* $h\\in\\mathbb{R}^H$ is hidden units\n",
    "\n",
    "And $v,h$ takes binary value (0,1), then it defines an energy function (similar as Hopfield network)\n",
    "$$\n",
    "E(v,h) = -a^Tv -b^Th - v^TWh\n",
    "$$\n",
    "which allows us to model the joint-distribution $(v,h)$ in term of the energy function i.e\n",
    "$$\n",
    "\\mathbb{P}(v,h) = \\frac{1}{Z}e^{-E(v,h)}\n",
    "$$\n",
    "The above diagram is a bipartite graph which allows to define conditional probability \n",
    "$$\n",
    "\\begin{array}{rl}\n",
    "P(v|h) &= \\prod_{i}P(v_i|h)\\\\\n",
    "P(h|v) &= \\prod_{j}P(h_j|v)\n",
    "\\end{array}\n",
    "$$\n",
    "where individual probability is given by\n",
    "$$\n",
    "\\begin{array}{rl}\n",
    "P(v_i=1|h) &= \\sigma\\left(a_i + \\sum_{j=1}^{H}w_{i,j}h_j\\right)\\\\\n",
    "P(h_j=1|v) &= \\sigma\\left(b_j + \\sum_{i=1}^Dw_{i,j}v_i\\right)\n",
    "\\end{array}\n",
    "$$\n",
    "\n",
    "In this note, we look at the following task\n",
    "* given a set of unlabelled dataset $\\left\\{v^{(i)}\\right\\}_{i=1}^n$\n",
    "* given a configuration of RMB e.g number of hidden units $H$\n",
    "\n",
    "The goal is to learn $a$, $b$ and $W$ that model the joint-distribution directly from dataset $\\left\\{v^{(i)}\\right\\}_{i=1}^n$.\n",
    "\n",
    "We will consider MNIST dataset for this task, then later we go through some RBM's application."
   ]
  }
 ],
 "metadata": {
  "kernelspec": {
   "display_name": "Python 3",
   "language": "python",
   "name": "python3"
  },
  "language_info": {
   "codemirror_mode": {
    "name": "ipython",
    "version": 3
   },
   "file_extension": ".py",
   "mimetype": "text/x-python",
   "name": "python",
   "nbconvert_exporter": "python",
   "pygments_lexer": "ipython3",
   "version": "3.6.1"
  }
 },
 "nbformat": 4,
 "nbformat_minor": 2
}
