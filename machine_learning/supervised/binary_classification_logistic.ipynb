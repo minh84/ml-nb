{
 "cells": [
  {
   "cell_type": "markdown",
   "metadata": {},
   "source": [
    "Let's now talk about classification and as an introduction we will focus on binary classifcation where $y$ can take on only two values, 0 and 1. For instance, if we are trying to build a spam classifier for email, then $x^{(i)}$ may be some features of an email and $y^{(i)}$ may be 1 if it is a spam mail, and 0 otherwise. \n",
    "\n",
    "In the context of classification, we often use the following notation\n",
    "* $y^{(i)}$ is also called the **label** values\n",
    "* 0 is also called the **negative** class\n",
    "* 1 is also called the **positive** class\n",
    "\n",
    "In this notebook, we will look at logistic regression for binary classification task. First we import needed modules"
   ]
  },
  {
   "cell_type": "code",
   "execution_count": 1,
   "metadata": {},
   "outputs": [],
   "source": [
    "# import modules\n",
    "import numpy as np\n",
    "import time, sys\n",
    "\n",
    "# add parent to search path\n",
    "if '..' not in sys.path:\n",
    "    sys.path.insert(0, '..')\n",
    "\n",
    "    \n",
    "# for auto-reloading external modules\n",
    "%load_ext autoreload\n",
    "%autoreload 2\n",
    "\n",
    "# imported helpers function   \n",
    "from helpers import funcs, vis, glm\n",
    "\n",
    "# matplotlib inline\n",
    "%matplotlib inline"
   ]
  },
  {
   "cell_type": "markdown",
   "metadata": {},
   "source": [
    "## Logistic regression\n",
    "One could approach the classification above as a linear regression while ignoring the fact $y$ can only be either 0 or 1. However, this approach would perform poorly due to the following reasons\n",
    "* the hypothesis function $h_\\theta(x)$ is penalized if it is either much bigger than 1 or much smaller than 0\n",
    "* $h_\\theta(x)$ ignored the fact that $y$ can only be 0 or 1\n",
    "\n",
    "To fix that, we will choose \n",
    "\n",
    "$$\n",
    "h_\\theta(x) = \\frac{1}{1 + e^{-\\theta^Tx}}\n",
    "$$\n",
    "\n",
    "where \n",
    "\n",
    "$$\n",
    "g(z) = \\frac{1}{1+e^{-z}}\n",
    "$$ \n",
    "is called the **logistic function** or the **sigmoid function**. Here is a plot showing $g(z)$"
   ]
  },
  {
   "cell_type": "code",
   "execution_count": 2,
   "metadata": {},
   "outputs": [
    {
     "data": {
      "image/png": "[encoded data removed]",
      "text/plain": [
       "<matplotlib.figure.Figure at 0x7f87cc3c9da0>"
      ]
     },
     "metadata": {},
     "output_type": "display_data"
    }
   ],
   "source": [
    "x = np.linspace(-10,10,50)\n",
    "_ = vis.draw(x, funcs.sigmoid(x), \n",
    "             plot_type='plot', title='sigmoid g(z)',\n",
    "             xy_labels = ['z', 'g(z)'])"
   ]
  },
  {
   "cell_type": "markdown",
   "metadata": {},
   "source": [
    "The sigmoid function $g(z)$ has the following nice properties\n",
    "* $g(z)\\in [0, 1]$ for all $z\\in\\mathbb{R}$\n",
    "* $g(z)$ is an increasing function and \n",
    "\\begin{split}\n",
    "\\lim_{z\\rightarrow -\\infty} g(z) &= 0 \\\\\n",
    "\\lim_{z\\rightarrow +\\infty} g(z) &= 1\n",
    "\\end{split}\n",
    "* $g(z)$ is continuous and its derivative is given by\n",
    "$$\n",
    "g'(z) = g(z)\\left(1-g(z)\\right)\n",
    "$$\n",
    "\n",
    "Now, we have chosen the hypothesis function, the next step is to define a loss function $J(\\theta)$ given training samples $\\left\\{x^{(i)},\\ y^{(i)}\\right\\}_{i=1}^m$.\n",
    "\n",
    "Let us assume that \n",
    "\\begin{split}\n",
    "P\\left(y=1|\\ x;\\theta\\right) &= h_\\theta(x)\\\\\n",
    "P\\left(y=0|\\ x;\\theta\\right) &= 1 - h_\\theta(x)\n",
    "\\end{split}\n",
    "\n",
    "This can be written in a more compact form as\n",
    "\n",
    "$$\n",
    "P(y|x;\\theta) = \\left(h_\\theta(x)\\right)^y\\left(1-h_\\theta(x)\\right)^{1-y}\n",
    "$$\n",
    "\n",
    "Assuming that all training samples are independent, then we write down the log-likelihood of the parameters as\n",
    "\n",
    "\\begin{split}\n",
    "L(\\theta) &= \\prod_{i=1}^{m}P\\left(y^{(i)}|x^{(i)};\\theta\\right)\\\\\n",
    "          &= \\prod_{i=1}^{m} \\left(h_\\theta(x^{(i)})\\right)^{y^{(i)}} \\left(1-h_\\theta(x^{(i)})\\right)^{1-y^{(i)}}\n",
    "\\end{split}\n",
    "\n",
    "Then, we can use the method of maximize-log-likelihood\n",
    "\\begin{split}\n",
    "\\theta &= \\mathrm{arg}\\max_{\\theta}\\log \\left(L(\\theta)\\right) \\\\\n",
    "&= \\mathrm{arg}\\max_{\\theta} \\sum_{i=1}^{m}\\left(y^{(i)}\\log\\left(h_\\theta(x^{(i)} \\right) + \\left(1-y^{(i)}\\right)\\log\\left(1-h_\\theta(x^{(i)} \\right)\\right)\n",
    "\\end{split}\n",
    "\n",
    "By taking negative log, we can define the loss function as\n",
    "\n",
    "$$\n",
    "J(\\theta) = - \\sum_{i=1}^{m}\\left(y^{(i)}\\log\\left(h_\\theta(x^{(i)} \\right) + \\left(1-y^{(i)}\\right)\\log\\left(1-h_\\theta(x^{(i)} \\right)\\right)\n",
    "$$\n",
    "\n",
    "To minimize $J(\\theta)$ one can use **SGD**\n",
    "$$\n",
    "\\theta:=\\theta + \\lambda \\nabla_\\theta J(\\theta)\n",
    "$$\n",
    "\n",
    "To compute the gradient $\\nabla_\\theta J(\\theta)$, we can just compute the derivative for the case of one training sample (then sum it up for general case)\n",
    "\\begin{split}\n",
    "&\\nabla_\\theta\\left( y\\log\\left(h_\\theta(x)\\right) + (1-y)\\log\\left(1-h_\\theta(x)\\right) \\right)\\\\\n",
    "=& \\left(\\frac{y}{h_\\theta(x)} - \\frac{1-y}{1 - h_\\theta(x)}\\right)\\nabla_\\theta h_\\theta(x)\\\\\n",
    "=& \\frac{y - h_\\theta(x)}{h_\\theta(x)\\left(1-h_\\theta(x)\\right)} h_\\theta(x)\\left(1-h_\\theta(x)\\right) x\\\\\n",
    "=& \\left(y - h_\\theta(x)\\right)x\n",
    "\\end{split}\n",
    "\n",
    "This therefore gives us the update rule for a mini-batch $S$\n",
    "\n",
    "$$\n",
    "\\theta_n = \\theta_{n-1} - \\lambda \\sum_{i\\in S} \\left(h(x^{(i)}, \\theta_{n-1})- y^{(i)}\\right)x^{(i)}\n",
    "$$\n",
    "\n",
    "If we compare it with the update-rule for linear regression, we see it looks identical. It's supprising but actually logistic regression and linear regression are a sub-class of Generalized Linear Model.\n",
    "\n",
    "Before looking at GLM, let's implement logistic regression.\n",
    "\n",
    "We start by creating a synthetic dataset"
   ]
  },
  {
   "cell_type": "code",
   "execution_count": 6,
   "metadata": {},
   "outputs": [
    {
     "data": {
      "image/png": "[encoded data removed]",
      "text/plain": [
       "<matplotlib.figure.Figure at 0x7f87a70b3550>"
      ]
     },
     "metadata": {},
     "output_type": "display_data"
    }
   ],
   "source": [
    "X, y = glm.demo_bin_class()\n",
    "\n",
    "neg_idx = np.where(y==0)[0]\n",
    "fig_ax = vis.draw(X[neg_idx, 0], X[neg_idx, 1], \n",
    "                  plot_type='scatter', colors='b')\n",
    "\n",
    "pos_idx = np.where(y==1)[0]\n",
    "_ = vis.draw(X[pos_idx, 0], X[pos_idx, 1], fig_ax=fig_ax,\n",
    "                  plot_type='scatter', colors='r')"
   ]
  },
  {
   "cell_type": "markdown",
   "metadata": {},
   "source": [
    "Let's devide the dataset into training set and validation set (we will use sklearn to do this)"
   ]
  },
  {
   "cell_type": "code",
   "execution_count": 45,
   "metadata": {
    "collapsed": true
   },
   "outputs": [],
   "source": [
    "from sklearn.model_selection import train_test_split\n",
    "\n",
    "X_train, X_test, y_train, y_test = train_test_split(X, y, \n",
    "                                                    test_size=0.1, \n",
    "                                                    random_state=42)"
   ]
  },
  {
   "cell_type": "markdown",
   "metadata": {},
   "source": [
    "The logistic regression is implemented in `glm.py`, here we will use it to fit the above dataset"
   ]
  },
  {
   "cell_type": "code",
   "execution_count": 76,
   "metadata": {},
   "outputs": [
    {
     "data": {
      "image/png": "[encoded data removed]",
      "text/plain": [
       "<matplotlib.figure.Figure at 0x7f87cc3c9f28>"
      ]
     },
     "metadata": {},
     "output_type": "display_data"
    }
   ],
   "source": [
    "# create logistic regression model\n",
    "clf = glm.LogitReg()\n",
    "\n",
    "# define some hyperparameters\n",
    "epochs = 100\n",
    "batch_size =30\n",
    "learning_rate = 5e-2\n",
    "\n",
    "# fit model with the data\n",
    "clf.fit(X_train, y_train, X_test, y_test, \n",
    "        batch_size, epochs, learning_rate =  learning_rate,\n",
    "        debug = True)\n",
    "\n",
    "# visualize training-loss vs validation-loss\n",
    "_ = vis.draw(np.arange(len(clf._dbg_loss)), clf._dbg_loss, \n",
    "         xy_labels=['iterations', 'loss'], \n",
    "         legends=['training', 'validation'],\n",
    "         colors = ['b','y'], plot_type = 'plot')"
   ]
  }
 ],
 "metadata": {
  "kernelspec": {
   "display_name": "Python 3",
   "language": "python",
   "name": "python3"
  },
  "language_info": {
   "codemirror_mode": {
    "name": "ipython",
    "version": 3
   },
   "file_extension": ".py",
   "mimetype": "text/x-python",
   "name": "python",
   "nbconvert_exporter": "python",
   "pygments_lexer": "ipython3",
   "version": "3.6.1"
  }
 },
 "nbformat": 4,
 "nbformat_minor": 2
}
