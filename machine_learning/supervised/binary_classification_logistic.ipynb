{
 "cells": [
  {
   "cell_type": "markdown",
   "metadata": {},
   "source": [
    "Let's now talk about classification and as an introduction we will focus on binary classifcation where $y$ can take on only two values, 0 and 1. For instance, if we are trying to build a spam classifier for email, then $x^{(i)}$ may be some features of an email and $y^{(i)}$ may be 1 if it is a spam mail, and 0 otherwise. \n",
    "\n",
    "In the context of classification, we often use the following notation\n",
    "* $y^{(i)}$ is also called the **label** values\n",
    "* 0 is also called the **negative** class\n",
    "* 1 is also called the **positive** class\n",
    "\n",
    "In this notebook, we will look at logistic regression for binary classification task. First we import needed modules"
   ]
  },
  {
   "cell_type": "code",
   "execution_count": 4,
   "metadata": {
    "collapsed": false
   },
   "outputs": [
    {
     "name": "stdout",
     "output_type": "stream",
     "text": [
      "The autoreload extension is already loaded. To reload it, use:\n",
      "  %reload_ext autoreload\n"
     ]
    }
   ],
   "source": [
    "# import modules\n",
    "import numpy as np\n",
    "import time, sys\n",
    "\n",
    "# add parent to search path\n",
    "if '..' not in sys.path:\n",
    "    sys.path.insert(0, '..')\n",
    "\n",
    "    \n",
    "# for auto-reloading external modules\n",
    "%load_ext autoreload\n",
    "%autoreload 2\n",
    "\n",
    "# imported helpers function   \n",
    "from helpers import funcs, vis\n",
    "\n",
    "# matplotlib inline\n",
    "%matplotlib inline"
   ]
  },
  {
   "cell_type": "markdown",
   "metadata": {},
   "source": [
    "## Logistic regression\n",
    "One could approach the classification above as a linear regression while ignoring the fact $y$ can only be either 0 or 1. However, this approach would perform poorly due to the following reasons\n",
    "* the hypothesis function $h_\\theta(x)$ is penalized if it is either much bigger than 1 or much smaller than 0\n",
    "* $h_\\theta(x)$ ignored the fact that $y$ can only be 0 or 1\n",
    "\n",
    "To fix that, we will choose \n",
    "\n",
    "$$\n",
    "h_\\theta(x) = \\frac{1}{1 + e^{-\\theta^Tx}}\n",
    "$$\n",
    "\n",
    "where \n",
    "\n",
    "$$\n",
    "g(z) = \\frac{1}{1+e^{-z}}\n",
    "$$ \n",
    "is called the **logistic function** or the **sigmoid function**. Here is a plot showing $g(z)$"
   ]
  },
  {
   "cell_type": "code",
   "execution_count": 7,
   "metadata": {
    "collapsed": false
   },
   "outputs": [
    {
     "data": {
      "image/png": "[encoded data removed]",
      "text/plain": [
       "<matplotlib.figure.Figure at 0x7f60a805d588>"
      ]
     },
     "metadata": {},
     "output_type": "display_data"
    }
   ],
   "source": [
    "x = np.linspace(-10,10,50)\n",
    "_ = vis.draw(x, funcs.sigmoid(x), \n",
    "             plot_type='plot', title='sigmoid g(z)',\n",
    "             xy_labels = ['z', 'g(z)'])"
   ]
  },
  {
   "cell_type": "markdown",
   "metadata": {},
   "source": [
    "The sigmoid function $g(z)$ has the following nice properties\n",
    "* $g(z)\\in [0, 1]$ for all $z\\in\\mathbb{R}$\n",
    "* $g(z)$ is an increasing function and \n",
    "\\begin{split}\n",
    "\\lim_{z\\rightarrow -\\infty} g(z) &= 0 \\\\\n",
    "\\lim_{z\\rightarrow +\\infty} g(z) &= 1\n",
    "\\end{split}\n",
    "* $g(z)$ is continuous and its derivative is given by\n",
    "$$\n",
    "g'(z) = g(z)\\left(1-g(z)\\right)\n",
    "$$\n",
    "\n",
    "Now, we have chosen the hypothesis function, the next step is to define a loss function $L\\left(h_\\theta\\left(x^{(i)}\\right), y^{(i)}\\right)$.\n",
    "\n"
   ]
  }
 ],
 "metadata": {
  "kernelspec": {
   "display_name": "Python 3",
   "language": "python",
   "name": "python3"
  },
  "language_info": {
   "codemirror_mode": {
    "name": "ipython",
    "version": 3
   },
   "file_extension": ".py",
   "mimetype": "text/x-python",
   "name": "python",
   "nbconvert_exporter": "python",
   "pygments_lexer": "ipython3",
   "version": "3.6.0"
  }
 },
 "nbformat": 4,
 "nbformat_minor": 2
}
