{
 "cells": [
  {
   "cell_type": "markdown",
   "metadata": {},
   "source": [
    "Let's now talk about classification and as an introduction we will focus on binary classifcation where $y$ can take on only two values, 0 and 1. For instance, if we are trying to build a spam classifier for email, then $x^{(i)}$ may be some features of an email and $y^{(i)}$ may be 1 if it is a spam mail, and 0 otherwise. \n",
    "\n",
    "In the context of classification, we often use the following notation\n",
    "* $y^{(i)}$ is also called the **label** values\n",
    "* 0 is also called the **negative** class\n",
    "* 1 is also called the **positive** class\n",
    "\n",
    "## Logistic regression\n",
    "One could approach the classification above as a linear regression while ignoring the fact $y$ can only be either 0 or 1. However, this approach would perform poorly due to the following reasons\n",
    "* the hypothesis function $h_\\theta(x)$ is penalized if it is either much bigger than 1 or much smaller than 0\n",
    "* $h_\\theta(x)$ ignored the fact that $y$ can only be 0 or 1\n",
    "\n",
    "To fix that, we will choose \n",
    "\n",
    "$$\n",
    "h_\\theta(x) = \\frac{1}{1 + e^{-\\theta^Tx}}\n",
    "$$\n",
    "\n",
    "where \n",
    "\n",
    "$$\n",
    "g(z) = \\frac{1}{1+e^{-z}}\n",
    "$$ \n",
    "is called the **logistic function** or the **sigmoid function**."
   ]
  }
 ],
 "metadata": {
  "kernelspec": {
   "display_name": "Python 3",
   "language": "python",
   "name": "python3"
  },
  "language_info": {
   "codemirror_mode": {
    "name": "ipython",
    "version": 3
   },
   "file_extension": ".py",
   "mimetype": "text/x-python",
   "name": "python",
   "nbconvert_exporter": "python",
   "pygments_lexer": "ipython3",
   "version": "3.6.1"
  }
 },
 "nbformat": 4,
 "nbformat_minor": 2
}
