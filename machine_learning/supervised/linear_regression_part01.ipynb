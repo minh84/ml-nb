{
 "cells": [
  {
   "cell_type": "markdown",
   "metadata": {},
   "source": [
    "In this notebook we will look at linear regression problem. Recall linear regression it to find $\\theta$ such that \n",
    "$$\n",
    "h(x,\\theta) = \\theta_0 + \\theta_1x_1+\\ldots+\\theta_Dx_D\n",
    "$$\n",
    "is a good predictor for training set $(x^{(i)}, y^{(i)})_{i=1}^m$ i.e we want to find $\\theta$ that minimize\n",
    "$$\n",
    "J(\\theta) = \\frac{1}{2}\\sum_{i=1}^m \\left(h(x^{(i)}, \\theta)- y^{(i)}\\right)^2\n",
    "$$\n",
    "where $J(\\theta)$ is also call the **least-square** loss function.\n",
    "\n",
    "\n",
    "## Probabilistic interpretation: Maximum-likelihood\n",
    "In this part, we try to understand why we use the linear representation with the **least-square** error. Let's asssume the target and inputs are related via the equation\n",
    "$$\n",
    "y^{(i)} = h(x^{(i)},\\theta) + \\epsilon^{(i)}\n",
    "$$\n",
    "where $\\epsilon^{(i)}$ is an error term that captures either un-modeled features or random noise. We assume further that $\\epsilon^{(i)}\\ \\mathrm{i.i.d}\\ \\sim \\mathcal{N}(0,\\sigma^2)$.\n",
    "\n",
    "We have \n",
    "$$\n",
    "p(\\epsilon^{(i)}) = \\frac{1}{\\sqrt{2\\pi}\\sigma}\\exp\\left(-\\frac{\\left(\\epsilon^{(i)}\\right)^2}{2\\sigma^2}\\right)\n",
    "$$\n",
    "This implies that\n",
    "$$\n",
    "p(y^{(i)}|x^{(i)}) =  \\frac{1}{\\sqrt{2\\pi}\\sigma}\\exp\\left(-\\frac{\\left(y^{(i)} - h(x^{(i)},\\theta)\\right)^2}{2\\sigma^2}\\right)\n",
    "$$\n",
    "The likelihood function $L(\\theta)$ is defined as\n",
    "$$\n",
    "\\begin{array}{rl}\n",
    "L(\\theta) &= p(y^{(i)},i=1,\\ldots,m|x^{(i)},i=1,\\ldots,m;\\theta)\\\\\n",
    "          &=\\prod_{i=1}^m p(y^{(i)}|x^{(i)};\\theta)\n",
    "\\end{array}\n",
    "$$\n",
    "The maximum-likelihood is to find $\\theta$ that maximize $L(\\theta)$. By taking $-\\log(L(\\theta))$ it is equivalent to\n",
    "$$\n",
    "\\mathrm{arg}\\min_{\\theta} \\sum_{i=1}^m -\\log\\left(p(y^{(i)}|x^{(i)};\\theta)\\right)\n",
    "$$\n",
    "which can easily simplified to\n",
    "$$\n",
    "\\mathrm{arg}\\min_{\\theta}\\left( \\mathrm{cst} +\\frac{1}{2\\sigma^2}\\sum_{i=1}^m \\left(y^{(i)}- h(x^{(i)},\\theta)\\right)^2\\right) = \\mathrm{arg}\\min_{\\theta} J(\\theta)\n",
    "$$\n",
    "So the **least-square** loss function is actually result of maximum-likelihood method.\n",
    "\n",
    "## Gradient descent algorithm\n",
    "Gradient descent algorithm is well described in [wikipedia](https://en.wikipedia.org/wiki/Gradient_descent). The algorithm is based on the observation, if\n",
    "$$\n",
    "\\theta_n = \\theta_{n-1} -\\lambda \\nabla_{\\theta} J(\\theta)\n",
    "$$\n",
    "for $\\lambda$ small enough, then we have\n",
    "$$\n",
    "J(\\theta_{n-1})\\geq J(\\theta_{n})\n",
    "$$\n",
    "For least-square loss function, we have\n",
    "$$\n",
    "\\nabla_{\\theta} J(\\theta) = \\sum_{i=1}^m \\left(h(x^{(i)}, \\theta)- y^{(i)}\\right)x^{(i)}\n",
    "$$\n",
    "So the update-rule becomes\n",
    "$$\n",
    "\\theta_n = \\theta_{n-1} -\\lambda \\sum_{i=1}^m \\left(h(x^{(i)}, \\theta_{n-1})- y^{(i)}\\right)x^{(i)}\n",
    "$$\n",
    "Above update rule looks at all training examples, so it is also called **batch gradient descent**. This makes the method very expensive when $m$ is huge. So in practice, we often used **mini-batch stochastic gradient descent** (see [here](https://en.wikipedia.org/wiki/Stochastic_gradient_descent) for detail description). In pseudocode, the method can be presented as follows\n",
    "\n",
    " <div style=\"margin-left: 35px; margin-top: 15px; width: 600px\">\n",
    " <div style=\"width:auto&nbsp;; margin-left: margin-bottom:1.25em;border:1px solid #8898BF; background:transparent;padding:0\">\n",
    "<div style=\"height:8px;margin:0;border:0;border-bottom:1px solid #8898BF;background: #C8D8FF;font-size:1px\"></div>\n",
    "<div style=\"padding:5px;font-size:small\">\n",
    "<ul>\n",
    "    <li> choose an initial guess for $\\theta_0$, learning rate $\\lambda$ and batch-size $s$ </li>\n",
    "    <li> at each epoch, we randomly shuffle the training sample\n",
    "    <ul>\n",
    "        <li> we loop through each mini-batch samples of size $s$ i.e $(x^{(i)}, y^{(i)})_{i=k\\cdot s}^{(k+1)\\cdot s-1}$ </li>\n",
    "        <li> we compute the update rule for current mini-batch sample i.e\n",
    "        $$\n",
    "        \\theta_n = \\theta_{n-1} -\\lambda \\sum_{i=k\\cdot s}^{(k+1)\\cdot s-1} \\left(h(x^{(i)}, \\theta_{n-1})- y^{(i)}\\right)x^{(i)}\n",
    "        $$\n",
    "        </li>\n",
    "    </ul>\n",
    "    </li>\n",
    "</ul>    \n",
    "</div>\n",
    "</div>\n",
    "</div>\n",
    "</div>\n",
    "\n",
    "## Linear regression examples\n",
    "It's time to implement linear regression with gradient descent using some synthetic data. We need to import the modules we need"
   ]
  },
  {
   "cell_type": "code",
   "execution_count": 2,
   "metadata": {
    "collapsed": true
   },
   "outputs": [],
   "source": [
    "import numpy as np\n",
    "import time, sys\n",
    "\n",
    "# add parent to search path\n",
    "if '..' not in sys.path:\n",
    "    sys.path.insert(0, '..')\n",
    "\n",
    "    \n",
    "# for auto-reloading external modules\n",
    "%load_ext autoreload\n",
    "%autoreload 2\n",
    "\n",
    "# imported helpers function   \n",
    "from helpers import vis"
   ]
  },
  {
   "cell_type": "markdown",
   "metadata": {},
   "source": [
    "We define a helper function to generate synthetic data"
   ]
  },
  {
   "cell_type": "code",
   "execution_count": 4,
   "metadata": {
    "collapsed": true
   },
   "outputs": [],
   "source": [
    "# helper function to generate data\n",
    "def create_dataset(theta, min_x, max_x, sigma, N):\n",
    "    '''\n",
    "    We generate N sample randomly uniform between min_x, max_x\n",
    "    then we append 1 to each sample\n",
    "                  y[i] = x[i] * theta' + eps[i]\n",
    "    where eps[i] ~ N(0, sigma^2)\n",
    "    \n",
    "    Input arguments\n",
    "    :param theta: a ndarray of shape [D+1]\n",
    "    :param min_x: min value for x of shape [D]\n",
    "    :param max_x: max value for x of shape [D]\n",
    "    :param sigma: standard deviation for error\n",
    "    :param N: number of sample\n",
    "    \n",
    "    :return:\n",
    "        X: a matrix of shape [N, D+1] (we append 1 at the beginning)\n",
    "        y: a ndarray of shape [N]\n",
    "    '''\n",
    "    D = len(theta) - 1\n",
    "    sample_x = np.random.uniform(low=min_x, high=max_x, size=[N, D])\n",
    "    X = np.hstack([np.ones([N,1]), sample_x])\n",
    "    y = X.dot(theta) + sigma * np.random.randn(N)\n",
    "    return X, y"
   ]
  },
  {
   "cell_type": "markdown",
   "metadata": {},
   "source": [
    "We can generate training dataset and visualize it with `matplotlib`"
   ]
  },
  {
   "cell_type": "code",
   "execution_count": 7,
   "metadata": {},
   "outputs": [
    {
     "data": {
      "image/png": "[encoded data removed]",
      "text/plain": [
       "<matplotlib.figure.Figure at 0x7fa10bd5add8>"
      ]
     },
     "metadata": {},
     "output_type": "display_data"
    }
   ],
   "source": [
    "import matplotlib.pyplot as plt\n",
    "%matplotlib inline\n",
    "\n",
    "in_theta = np.array([2.0, 3.5])\n",
    "sigma = .2\n",
    "min_x = [0.]\n",
    "max_x = [1.]\n",
    "N = 100\n",
    "data_X, data_y = create_dataset(in_theta, min_x, max_x, sigma, N)\n",
    "\n",
    "\n",
    "vis.draw(data_X[:,1], data_y, title='Training data generate with input theta={}'.format(in_theta))\n",
    "\n",
    "# split to train & validation\n",
    "from sklearn.model_selection import train_test_split\n",
    "train_X, val_X, train_y, val_y = train_test_split(data_X, data_y, test_size=0.2)"
   ]
  },
  {
   "cell_type": "markdown",
   "metadata": {},
   "source": [
    "Let's implement the GD/SGD fitting to recover original $\\theta$ from training data"
   ]
  },
  {
   "cell_type": "code",
   "execution_count": 9,
   "metadata": {
    "collapsed": true
   },
   "outputs": [],
   "source": [
    "class LinearRegressionModel(object):\n",
    "    def __init__(self, learning_rate):\n",
    "        self._learning_rate = learning_rate\n",
    "        self._theta = None\n",
    "    \n",
    "    def _loss(self, batch_x, batch_y):\n",
    "        '''\n",
    "        compute mini-batch loss and derivative with respect to theta\n",
    "        \n",
    "        Input\n",
    "        :param batch_x is ndarray of shape [batch_size, D+1]\n",
    "        :param batch_y is ndarray of shape [batch_size]\n",
    "        \n",
    "        :return:\n",
    "            loss: least-square loss function\n",
    "            dloss/dtheta: derivative of loss with respect to theta\n",
    "        '''\n",
    "        assert (self._theta is not None)\n",
    "                \n",
    "        err = batch_x.dot(self._theta) - batch_y\n",
    "        loss = 0.5 * np.sum(np.square(err))\n",
    "        dtheta = np.transpose(batch_x).dot(err)\n",
    "        \n",
    "        return loss, dtheta\n",
    "    \n",
    "    def _step(self, batch_X, batch_y):\n",
    "        loss, dtheta = self._loss(batch_X, batch_y)\n",
    "        self._theta  = self._theta - self._learning_rate * dtheta\n",
    "        return loss\n",
    "    \n",
    "    def get_batches(self, train_X, train_y, batch_size):\n",
    "        # get number of sample and compute number of batches\n",
    "        N = train_X.shape[0]\n",
    "        nb_batches   = N // batch_size\n",
    "        \n",
    "        # shuffle training sample\n",
    "        idx = np.arange(N)\n",
    "        np.random.shuffle(idx)\n",
    "        \n",
    "        # return batch_x, batch_y\n",
    "        for i in range(nb_batches):            \n",
    "            batch_idx = idx[i*batch_size:(i+1) * batch_size]\n",
    "            yield train_X[batch_idx], train_y[batch_idx]\n",
    "            \n",
    "    \n",
    "    def fit(self, train_X, train_y, val_X, val_y,\n",
    "            batch_size, epochs, debug = False):\n",
    "        # get number of sample and input dimension\n",
    "        N, input_dim = train_X.shape\n",
    "        nb_batches   = N // batch_size\n",
    "        # initialized by a random-normal\n",
    "        self._theta = np.random.randn(input_dim)\n",
    "        \n",
    "        self._dbg_loss = None\n",
    "        # if debug on, we store loss        \n",
    "        if debug:\n",
    "            self._dbg_loss = []\n",
    "        # iteratively update theta        \n",
    "        for e in range(epochs):            \n",
    "            for batch_X, batch_y in self.get_batches(train_X, train_y, batch_size):\n",
    "                loss = self._step(batch_X, batch_y)\n",
    "                if debug:    \n",
    "                    val_loss,_ = self._loss(val_X, val_y) \n",
    "                    self._dbg_loss.append([loss/batch_size, val_loss/val_X.shape[0]])\n",
    "    \n",
    "    def predict(self, x):\n",
    "        assert (self._theta is not None)\n",
    "        return x.dot(self._theta)"
   ]
  },
  {
   "cell_type": "markdown",
   "metadata": {},
   "source": [
    "We can try to train our model on generated synthetic dataset"
   ]
  },
  {
   "cell_type": "code",
   "execution_count": 35,
   "metadata": {},
   "outputs": [
    {
     "data": {
      "image/png": "[encoded data removed]",
      "text/plain": [
       "<matplotlib.figure.Figure at 0x7fa10abb8240>"
      ]
     },
     "metadata": {},
     "output_type": "display_data"
    }
   ],
   "source": [
    "clf = LinearRegressionModel(learning_rate=0.01)\n",
    "\n",
    "# hyper parameters\n",
    "epochs = 100\n",
    "\n",
    "batch_size = 10\n",
    "clf.fit(train_X, train_y, val_X, val_y, batch_size, epochs, debug=True)\n",
    "\n",
    "# plot loss function\n",
    "train_val_loss = np.array(clf._dbg_loss)\n",
    "nb_loss = train_val_loss.shape[0]\n",
    "_= vis.draw(range(nb_loss), \n",
    "         train_val_loss, \n",
    "         title = 'Fitted theta = {}'.format(clf._theta),\n",
    "         legends = ['trainning loss', 'validation loss'], plot_type = 'plot')\n"
   ]
  },
  {
   "cell_type": "code",
   "execution_count": 38,
   "metadata": {},
   "outputs": [
    {
     "data": {
      "image/png": "[encoded data removed]",
      "text/plain": [
       "<matplotlib.figure.Figure at 0x7fa10afbaf98>"
      ]
     },
     "metadata": {},
     "output_type": "display_data"
    }
   ],
   "source": [
    "x_plot = np.linspace(min_x, max_x, 20)\n",
    "fig_ax = vis.draw(data_X[:,1], data_y, plot_type='scatter')\n",
    "_ = vis.draw(x_plot, x_plot * clf._theta[1] + clf._theta[0], fig_ax = fig_ax, \n",
    "         title = 'Training data generate with input theta={}'.format(in_theta),\n",
    "         plot_type='plot', colors='r')\n"
   ]
  },
  {
   "cell_type": "markdown",
   "metadata": {},
   "source": [
    "We can play around with various set of hyper-parameters `(batch_size, epochs, learning_rate)`, after trying various parameters one can notice the following\n",
    "* the smaller batch_size the more noisy training loss, you can try batch_size = 5 for example\n",
    "* the learning_rate for this dataset should be in [0.005, 0.1]\n",
    "    * if the learning_rate is small e.g 1e-3, the training need ~ 500 epochs to converge\n",
    "    * if the learning_rate is big e.g 2e-1, the training will blow up\n",
    "\n",
    "For this simple dataset, we find that batch_size=10, epochs=100 and learning_rate=1e-2 seems performing well.\n",
    "\n",
    "## Conclusion\n",
    "The linear regression is one of the most simple learning algorithm, but it's still very popular since it's very fast to train and its result is very easy to interpret. In this notebook, we have learnt to fit linear regression using Stochastic Gradient Descent, however in practice, we often use the closed-form for linear regression. We will discuss it in next part."
   ]
  }
 ],
 "metadata": {
  "kernelspec": {
   "display_name": "Python 3",
   "language": "python",
   "name": "python3"
  },
  "language_info": {
   "codemirror_mode": {
    "name": "ipython",
    "version": 3
   },
   "file_extension": ".py",
   "mimetype": "text/x-python",
   "name": "python",
   "nbconvert_exporter": "python",
   "pygments_lexer": "ipython3",
   "version": "3.6.1"
  }
 },
 "nbformat": 4,
 "nbformat_minor": 2
}
