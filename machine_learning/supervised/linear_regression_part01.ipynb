{
 "cells": [
  {
   "cell_type": "markdown",
   "metadata": {},
   "source": [
    "In this notebook we will look at linear regression problem. Recall linear regression it to find $\\theta$ such that \n",
    "$$\n",
    "h(x,\\theta) = \\theta_0 + \\theta_1x_1+\\ldots+\\theta_Dx_D\n",
    "$$\n",
    "is a good predictor for training set $(x^{(i)}, y^{(i)})_{i=1}^m$ i.e we want to find $\\theta$ that minimize\n",
    "$$\n",
    "J(\\theta) = \\frac{1}{2}\\sum_{i=1}^m \\left(h(x^{(i)}, \\theta)- y^{(i)}\\right)^2\n",
    "$$\n",
    "where $J(\\theta)$ is also call the **least-square** loss function.\n",
    "\n",
    "\n",
    "## Probabilistic interpretation: Maximum-likelihood\n",
    "In this part, we try to understand why we use the linear representation with the **least-square** error. Let's asssume the target and inputs are related via the equation\n",
    "$$\n",
    "y^{(i)} = h(x^{(i)},\\theta) + \\epsilon^{(i)}\n",
    "$$\n",
    "where $\\epsilon^{(i)}$ is an error term that captures either un-modeled features or random noise. We assume further that $\\epsilon^{(i)}\\ \\mathrm{i.i.d}\\ \\sim \\mathcal{N}(0,\\sigma^2)$.\n",
    "\n",
    "We have \n",
    "$$\n",
    "p(\\epsilon^{(i)}) = \\frac{1}{\\sqrt{2\\pi}\\sigma}\\exp\\left(-\\frac{\\left(\\epsilon^{(i)}\\right)^2}{2\\sigma^2}\\right)\n",
    "$$\n",
    "This implies that\n",
    "$$\n",
    "p(y^{(i)}|x^{(i)}) =  \\frac{1}{\\sqrt{2\\pi}\\sigma}\\exp\\left(-\\frac{\\left(y^{(i)} - h(x^{(i)},\\theta)\\right)^2}{2\\sigma^2}\\right)\n",
    "$$\n",
    "The likelihood function $L(\\theta)$ is defined as\n",
    "$$\n",
    "\\begin{array}{rl}\n",
    "L(\\theta) &= p(y^{(i)},i=1,\\ldots,m|x^{(i)},i=1,\\ldots,m;\\theta)\\\\\n",
    "          &=\\prod_{i=1}^m p(y^{(i)}|x^{(i)};\\theta)\n",
    "\\end{array}\n",
    "$$\n",
    "The maximum-likelihood is to find $\\theta$ that maximize $L(\\theta)$. By taking $-\\log(L(\\theta))$ it is equivalent to\n",
    "$$\n",
    "\\mathrm{arg}\\min_{\\theta} \\sum_{i=1}^m -\\log\\left(p(y^{(i)}|x^{(i)};\\theta)\\right)\n",
    "$$\n",
    "which can easily simplified to\n",
    "$$\n",
    "\\mathrm{arg}\\min_{\\theta}\\left( \\mathrm{cst} +\\frac{1}{2\\sigma^2}\\sum_{i=1}^m \\left(y^{(i)}- h(x^{(i)},\\theta)\\right)^2\\right) = \\mathrm{arg}\\min_{\\theta} J(\\theta)\n",
    "$$\n",
    "So the **least-square** loss function is actually result of maximum-likelihood method.\n",
    "\n",
    "## Gradient descent algorithm\n",
    "Gradient descent algorithm is well described in [wikipedia](https://en.wikipedia.org/wiki/Gradient_descent). The algorithm is based on the observation, if\n",
    "$$\n",
    "\\theta_n = \\theta_{n-1} -\\lambda \\nabla_{\\theta} J(\\theta)\n",
    "$$\n",
    "for $\\lambda$ small enough, then we have\n",
    "$$\n",
    "J(\\theta_{n-1})\\geq J(\\theta_{n})\n",
    "$$\n",
    "For least-square loss function, we have\n",
    "$$\n",
    "\\nabla_{\\theta} J(\\theta) = \\sum_{i=1}^m \\left(h(x^{(i)}, \\theta)- y^{(i)}\\right)x^{(i)}\n",
    "$$\n",
    "So the update-rule becomes\n",
    "$$\n",
    "\\theta_n = \\theta_{n-1} -\\lambda \\sum_{i=1}^m \\left(h(x^{(i)}, \\theta_{n-1})- y^{(i)}\\right)x^{(i)}\n",
    "$$\n",
    "Above update rule looks at all training examples, so it is also called **batch gradient descent**. This makes the method very expensive when $m$ is huge. So in practice, we often used **mini-batch stochastic gradient descent** (see [here](https://en.wikipedia.org/wiki/Stochastic_gradient_descent) for detail description). In pseudocode, the method can be presented as follows\n",
    "\n",
    " <div style=\"margin-left: 35px; margin-top: 15px; width: 600px\">\n",
    " <div style=\"width:auto&nbsp;; margin-left: margin-bottom:1.25em;border:1px solid #8898BF; background:transparent;padding:0\">\n",
    "<div style=\"height:8px;margin:0;border:0;border-bottom:1px solid #8898BF;background: #C8D8FF;font-size:1px\"></div>\n",
    "<div style=\"padding:5px;font-size:small\">\n",
    "<ul>\n",
    "    <li> choose an initial guess for $\\theta_0$, learning rate $\\lambda$ and batch-size $s$ </li>\n",
    "    <li> at each epoch, we randomly shuffle the training sample\n",
    "    <ul>\n",
    "        <li> we loop through each mini-batch samples of size $s$ i.e $(x^{(i)}, y^{(i)})_{i=k\\cdot s}^{(k+1)\\cdot s-1}$ </li>\n",
    "        <li> we compute the update rule for current mini-batch sample i.e\n",
    "        $$\n",
    "        \\theta_n = \\theta_{n-1} -\\lambda \\sum_{i=k\\cdot s}^{(k+1)\\cdot s-1} \\left(h(x^{(i)}, \\theta_{n-1})- y^{(i)}\\right)x^{(i)}\n",
    "        $$\n",
    "        </li>\n",
    "    </ul>\n",
    "    </li>\n",
    "</ul>    \n",
    "</div>\n",
    "</div>\n",
    "</div>\n",
    "</div>\n",
    "\n",
    "## Linear regression examples\n",
    "It's time to implement linear regression with gradient descent using some synthetic data. We need to import the modules we need"
   ]
  },
  {
   "cell_type": "code",
   "execution_count": 1,
   "metadata": {
    "collapsed": true
   },
   "outputs": [],
   "source": [
    "import numpy as np\n",
    "import time, sys\n",
    "\n",
    "# add parent to search path\n",
    "if '..' not in sys.path:\n",
    "    sys.path.insert(0, '..')\n",
    "\n",
    "    \n",
    "# for auto-reloading external modules\n",
    "%load_ext autoreload\n",
    "%autoreload 2\n",
    "\n",
    "# imported helpers function   \n",
    "from helpers import vis, glm"
   ]
  },
  {
   "cell_type": "markdown",
   "metadata": {},
   "source": [
    "We define a helper function to generate synthetic data"
   ]
  },
  {
   "cell_type": "code",
   "execution_count": 2,
   "metadata": {
    "collapsed": true
   },
   "outputs": [],
   "source": [
    "# helper function to generate data\n",
    "def create_dataset(theta, min_x, max_x, sigma, N):\n",
    "    '''\n",
    "    We generate N sample randomly uniform between min_x, max_x\n",
    "    then we append 1 to each sample\n",
    "                  y[i] = x[i] * theta' + eps[i]\n",
    "    where eps[i] ~ N(0, sigma^2)\n",
    "    \n",
    "    Input arguments\n",
    "    :param theta: a ndarray of shape [D+1]\n",
    "    :param min_x: min value for x of shape [D]\n",
    "    :param max_x: max value for x of shape [D]\n",
    "    :param sigma: standard deviation for error\n",
    "    :param N: number of sample\n",
    "    \n",
    "    :return:\n",
    "        X: a matrix of shape [N, D+1] (we append 1 at the beginning)\n",
    "        y: a ndarray of shape [N]\n",
    "    '''\n",
    "    D = len(theta) - 1\n",
    "    sample_x = np.random.uniform(low=min_x, high=max_x, size=[N, D])\n",
    "    X = np.hstack([np.ones([N,1]), sample_x])\n",
    "    y = X.dot(theta) + sigma * np.random.randn(N)\n",
    "    return X, y"
   ]
  },
  {
   "cell_type": "markdown",
   "metadata": {},
   "source": [
    "We can generate training dataset and visualize it with `matplotlib`"
   ]
  },
  {
   "cell_type": "code",
   "execution_count": 3,
   "metadata": {},
   "outputs": [
    {
     "data": {
      "image/png": "[encoded data removed]",
      "text/plain": [
       "<matplotlib.figure.Figure at 0x7f1495b4bf98>"
      ]
     },
     "metadata": {},
     "output_type": "display_data"
    }
   ],
   "source": [
    "import matplotlib.pyplot as plt\n",
    "%matplotlib inline\n",
    "\n",
    "in_theta = np.array([2.0, 3.5])\n",
    "sigma = .2\n",
    "min_x = [0.]\n",
    "max_x = [1.]\n",
    "N = 100\n",
    "data_X, data_y = create_dataset(in_theta, min_x, max_x, sigma, N)\n",
    "\n",
    "\n",
    "vis.draw(data_X[:,1], data_y, title='Training data generate with input theta={}'.format(in_theta))\n",
    "\n",
    "# split to train & validation\n",
    "from sklearn.model_selection import train_test_split\n",
    "train_X, val_X, train_y, val_y = train_test_split(data_X, data_y, test_size=0.2)"
   ]
  },
  {
   "cell_type": "markdown",
   "metadata": {},
   "source": [
    "We have implemented GD/SGD fitting in `glm.py`, now let's try to train our model on generated synthetic dataset"
   ]
  },
  {
   "cell_type": "code",
   "execution_count": 17,
   "metadata": {},
   "outputs": [
    {
     "data": {
      "image/png": "[encoded data removed]",
      "text/plain": [
       "<matplotlib.figure.Figure at 0x7f1488876be0>"
      ]
     },
     "metadata": {},
     "output_type": "display_data"
    }
   ],
   "source": [
    "clf = glm.Lsm()\n",
    "\n",
    "# hyper parameters\n",
    "epochs = 100\n",
    "\n",
    "batch_size = 10\n",
    "clf.fit(train_X, train_y, val_X, val_y, \n",
    "        epochs = epochs, batch_size=batch_size,\n",
    "        solver = 'Sgd', learning_rate=0.05, debug=True, \n",
    "        use_intercept = False)\n",
    "\n",
    "# plot loss function\n",
    "train_val_loss = np.array(clf._dbg_loss)\n",
    "nb_loss = train_val_loss.shape[0]\n",
    "_= vis.draw(range(nb_loss), \n",
    "         train_val_loss, \n",
    "         title = 'Fitted theta = {}'.format(clf._thetas),\n",
    "         legends = ['trainning loss', 'validation loss'], plot_type = 'plot')\n"
   ]
  },
  {
   "cell_type": "code",
   "execution_count": 18,
   "metadata": {},
   "outputs": [
    {
     "data": {
      "image/png": "[encoded data removed]",
      "text/plain": [
       "<matplotlib.figure.Figure at 0x7f14889a8be0>"
      ]
     },
     "metadata": {},
     "output_type": "display_data"
    }
   ],
   "source": [
    "x_plot = np.linspace(min_x, max_x, 20)\n",
    "fig_ax = vis.draw(data_X[:,1], data_y, plot_type='scatter')\n",
    "_ = vis.draw(x_plot, x_plot * clf._thetas[1] + clf._thetas[0], fig_ax = fig_ax, \n",
    "         title = 'Training data generate with input theta={}'.format(in_theta),\n",
    "         plot_type='plot', colors='r')\n"
   ]
  },
  {
   "cell_type": "markdown",
   "metadata": {},
   "source": [
    "We can play around with various set of hyper-parameters `(batch_size, epochs, learning_rate)`, after trying various parameters one can notice the following\n",
    "* the smaller batch_size the more noisy training loss, you can try batch_size = 5 for example\n",
    "* the learning_rate for this dataset should be in [0.005, 0.1]\n",
    "    * if the learning_rate is small e.g 1e-3, the training need ~ 500 epochs to converge\n",
    "    * if the learning_rate is big e.g 2e-1, the training will blow up\n",
    "* the fitting works much better with `SgdMomentum`\n",
    "\n",
    "For this simple dataset, we find that batch_size=10, epochs=100 and learning_rate=1e-2 seems performing well.\n",
    "\n",
    "## Conclusion\n",
    "The linear regression is one of the most simple learning algorithm, but it's still very popular since it's very fast to train and its result is easy to interpret. In this notebook, we have learnt to fit linear regression using Stochastic Gradient Descent (with/without momentum), however in practice, we often use the closed-form for linear regression. We will discuss it in next part."
   ]
  }
 ],
 "metadata": {
  "kernelspec": {
   "display_name": "Python 3",
   "language": "python",
   "name": "python3"
  },
  "language_info": {
   "codemirror_mode": {
    "name": "ipython",
    "version": 3
   },
   "file_extension": ".py",
   "mimetype": "text/x-python",
   "name": "python",
   "nbconvert_exporter": "python",
   "pygments_lexer": "ipython3",
   "version": "3.6.1"
  }
 },
 "nbformat": 4,
 "nbformat_minor": 2
}
