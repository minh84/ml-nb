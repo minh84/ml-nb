{
 "cells": [
  {
   "cell_type": "markdown",
   "metadata": {},
   "source": [
    "## TOC\n",
    "-   [Introduction](#Introduction)\n",
    "-   [Datasets and tasks](#Datasets-and-tasks)\n",
    "    -   [MNIST](#MNIST)\n",
    "    -   [CIFAR-10](#CIFAR-10)\n",
    "    \n",
    "## Introduction\n",
    "Visual recognition has become ubiquitous in our society with applications in\n",
    "\n",
    "* photo auto-tagging (Facebook)\n",
    "* object detection: self-driving cars, drones\n",
    "* image understanding: Google Lens\n",
    "\n",
    "The recent developments in neural network (aka \"deep learning\") have greatly advanced the performance of these state-of-the-art visual recognition systems. In this notebook we go through some widely used datasets and dive into specific visual recoginition tasks for these datasets.\n",
    "\n",
    "## Datasets and tasks\n",
    "### MNIST"
   ]
  }
 ],
 "metadata": {
  "kernelspec": {
   "display_name": "Python 3",
   "language": "python",
   "name": "python3"
  },
  "language_info": {
   "codemirror_mode": {
    "name": "ipython",
    "version": 3
   },
   "file_extension": ".py",
   "mimetype": "text/x-python",
   "name": "python",
   "nbconvert_exporter": "python",
   "pygments_lexer": "ipython3",
   "version": "3.6.1"
  }
 },
 "nbformat": 4,
 "nbformat_minor": 2
}
