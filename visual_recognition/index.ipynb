{
 "cells": [
  {
   "cell_type": "markdown",
   "metadata": {},
   "source": [
    "## TOC\n",
    "-   [Introduction](#Introduction)\n",
    "-   [Datasets and tasks](#Datasets-and-tasks)\n",
    "    -   [MNIST](#MNIST)\n",
    "    -   [CIFAR-10](#CIFAR-10)\n",
    "    \n",
    "## Introduction\n",
    "Visual recognition has become ubiquitous in our society with applications in\n",
    "\n",
    "* photo auto-tagging (Facebook)\n",
    "* object detection: self-driving cars, drones\n",
    "* image understanding: Google Lens\n",
    "\n",
    "The recent developments in neural network (aka \"deep learning\") have greatly advanced the performance of these state-of-the-art visual recognition systems. In this notebook we go through some widely used datasets and dive into specific visual recoginition tasks for these datasets.\n",
    "\n",
    "## Datasets and tasks\n",
    "We start by loading some modules"
   ]
  },
  {
   "cell_type": "code",
   "execution_count": 1,
   "metadata": {
    "collapsed": true
   },
   "outputs": [],
   "source": [
    "import numpy as np\n",
    "import sys\n",
    "\n",
    "# for auto-reloading external modules\n",
    "%load_ext autoreload\n",
    "%autoreload 2"
   ]
  },
  {
   "cell_type": "markdown",
   "metadata": {},
   "source": [
    "Our code uses Tensorflow which you can install from [here](https://www.tensorflow.org/install/) \n",
    "\n",
    "### MNIST\n",
    "MNIST is a database of handwritten digits which is available [here](http://yann.lecun.com/exdb/mnist/). Training samples consists of 60k gray-scale fixed-size (28x28) images, and we have an additional 10k images served as testset.\n",
    "\n",
    "Here is a snippet of code for loading MNIST dataset and visualize some images"
   ]
  },
  {
   "cell_type": "code",
   "execution_count": 8,
   "metadata": {},
   "outputs": [
    {
     "name": "stdout",
     "output_type": "stream",
     "text": [
      "Extracting MNIST_data/train-images-idx3-ubyte.gz\n",
      "Extracting MNIST_data/train-labels-idx1-ubyte.gz\n",
      "Extracting MNIST_data/t10k-images-idx3-ubyte.gz\n",
      "Extracting MNIST_data/t10k-labels-idx1-ubyte.gz\n",
      "\n",
      "number of training samples:    55000\n",
      "number of validation samples:  5000\n",
      "number of testing samples:     10000\n",
      "\n",
      "each sample has shape: (784,)\n",
      "\n"
     ]
    },
    {
     "data": {
      "image/png": "[encoded data removed]",
      "text/plain": [
       "<matplotlib.figure.Figure at 0x7f0002856400>"
      ]
     },
     "metadata": {},
     "output_type": "display_data"
    }
   ],
   "source": [
    "from tensorflow.examples.tutorials.mnist import input_data\n",
    "mnist_data = input_data.read_data_sets(\"MNIST_data/\", one_hot=True)\n",
    "\n",
    "print('\\nnumber of training samples:   ', mnist_data.train.num_examples)\n",
    "print('number of validation samples: ', mnist_data.validation.num_examples)\n",
    "print('number of testing samples:    ', mnist_data.test.num_examples)\n",
    "print('\\neach sample has shape: {}\\n'.format( mnist_data.train.images[0].shape))\n",
    "\n",
    "# maplotlib draw inline\n",
    "%matplotlib inline\n",
    "from mnist import vis\n",
    "vis.grid_digits(mnist_data.train)"
   ]
  },
  {
   "cell_type": "markdown",
   "metadata": {},
   "source": [
    "#### MNIST Tasks\n",
    "The MNIST is small so it can be considered as toy dataset for testing new learning technique. Here are some of few things we can do with MNIST\n",
    "\n",
    "* **digit classification**: we want to classify image to corresponding number in the image. The following notebooks walk you though common approaches using Neural Networks:\n",
    "    * MNIST with Restricted Boltzmanns Machines\n",
    "    * MNIST with Feed Forward net (FFN)    \n",
    "    * MNIST with Convolution Neural Net (CNN)\n",
    "* **digit generation**: we want to generate hand-written image\n",
    "\n",
    "#### MNIST summary"
   ]
  }
 ],
 "metadata": {
  "kernelspec": {
   "display_name": "Python 3",
   "language": "python",
   "name": "python3"
  },
  "language_info": {
   "codemirror_mode": {
    "name": "ipython",
    "version": 3
   },
   "file_extension": ".py",
   "mimetype": "text/x-python",
   "name": "python",
   "nbconvert_exporter": "python",
   "pygments_lexer": "ipython3",
   "version": "3.6.1"
  }
 },
 "nbformat": 4,
 "nbformat_minor": 2
}
