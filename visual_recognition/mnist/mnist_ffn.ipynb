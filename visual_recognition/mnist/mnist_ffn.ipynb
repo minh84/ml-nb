{
 "cells": [
  {
   "cell_type": "markdown",
   "metadata": {},
   "source": [
    "## Feed-forward Neural Networks\n",
    "In this note book we develop a system to recognize handwritten digit MNIST using feed-forward nets (FFN) a.k.a fully-connected-nets. The architecture of FFN with one hidden layer is illustrated below\n",
    "\n",
    "<img src=\"./assets/ffn_1h.png\" width=\"60%\">\n",
    "\n",
    "where in mathematics term we define\n",
    "* $W_{ih}\\in\\mathbb{R}^{784\\times H}$ is the weights from input-to-hidden\n",
    "* $b_{h}\\in\\mathbb{R}^{H}$ is the biases for hidden layer\n",
    "* $W_{ho}\\in\\mathbb{R}^{H\\times 10}$ is the weights from hidden to output\n",
    "* $b_{o}\\in\\mathbb{R}^{10}$ is the biases for output layer\n",
    "* $a_h(x)$ is activation at hidden layer\n",
    "* given an input $x$ (represented in row-vector form), the hidden layer $h$ and output layer $o$ are computed by following equation\n",
    "    $$\\left\\{\\begin{split} \n",
    "    h &= a_h\\left(x\\times W_{ih} + b_h\\right)\\\\\n",
    "    o &= \\mathrm{softmax}\\left(h\\times W_{ho} + b_o\\right)\n",
    "    \\end{split}\n",
    "    \\right.$$\n",
    "   where \n",
    "   $$\n",
    "   \\mathrm{softmax}\\left(v_1,\\ldots,v_n\\right) = \\left(\\frac{e^{v_1}}{\\sum_{i=1}^n e^{v_i}},\\ldots,\\frac{e^{v_n}}{\\sum_{i=1}^n e^{v_i}}\\right)\n",
    "   $$\n",
    "* given the label $y$, the cross-entropy loss is defined as\n",
    "$$\n",
    "-\\log(o_{y})\n",
    "$$\n",
    "\n",
    "The activation function can be one of the following forms\n",
    "* $a_h(x) = \\frac{1}{1+e^{-x}}$  is called sigmoid activation\n",
    "* $a_h(x) = \\tanh(x)$  is called tanh activation\n",
    "* $a_h(x) = \\max(x,0)$ is call ReLU activation\n",
    "\n",
    "## Implement FFN"
   ]
  }
 ],
 "metadata": {
  "kernelspec": {
   "display_name": "Python 3",
   "language": "python",
   "name": "python3"
  },
  "language_info": {
   "codemirror_mode": {
    "name": "ipython",
    "version": 3
   },
   "file_extension": ".py",
   "mimetype": "text/x-python",
   "name": "python",
   "nbconvert_exporter": "python",
   "pygments_lexer": "ipython3",
   "version": "3.6.1"
  }
 },
 "nbformat": 4,
 "nbformat_minor": 2
}
